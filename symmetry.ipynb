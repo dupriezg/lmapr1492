{
 "cells": [
  {
   "cell_type": "code",
   "execution_count": 9,
   "metadata": {},
   "outputs": [
    {
     "name": "stdout",
     "output_type": "stream",
     "text": [
      "1ère symmétrie : plan miroir avec translation : '7 c-glide plan|translation 0 0 1/2 (y,x,z+1/2)'\n",
      "Rot:\n",
      "[[0. 1. 0.]\n",
      " [1. 0. 0.]\n",
      " [0. 0. 1.]]\n",
      "tau\n",
      "[0.  0.  0.5]\n",
      "2ème symmétrie : plan miroir : '12 mirror plane (-x+y,y,z)'\n",
      "Rot:\n",
      "[[-1.  1.  0.]\n",
      " [ 0.  1.  0.]\n",
      " [ 0.  0.  1.]]\n",
      "tau\n",
      "[0. 0. 0.]\n",
      "3ème symmétrie : symmétrie vis hexagonale : '6 6-fold screw axis translation 0 0 1/2 (y, -x+y, z+1/2)'\n",
      "Rot:\n",
      "[[ 0.  1.  0.]\n",
      " [-1.  1.  0.]\n",
      " [ 0.  0.  1.]]\n",
      "tau\n",
      "[0.  0.  0.5]\n"
     ]
    }
   ],
   "source": [
    "from pymatgen.ext.matproj import MPRester\n",
    "from pymatgen.io.cif import CifWriter\n",
    "with MPRester(\"KslnWabX1xzuAHTI\") as m:\n",
    "    structure = m.get_structure_by_material_id(\"mp-1008559\")\n",
    "    w = CifWriter(structure)\n",
    "    w.write_file('mp-1008559.cif')\n",
    "\n",
    "\n",
    "from pymatgen.io.cif import CifParser\n",
    "parser = CifParser(\"mp-1008559.cif\")\n",
    "\n",
    "\n",
    "from pymatgen.symmetry.analyzer import SpacegroupAnalyzer\n",
    "new_s = SpacegroupAnalyzer(structure).get_primitive_standard_structure()\n",
    "symm = SpacegroupAnalyzer(new_s).get_symmetry_operations(cartesian=False)\n",
    "\n",
    "\n",
    "#1ère symmétrie : plan miroir avec translation : \"7 c-glide plan|translation 0 0 1/2 (y,x,z+1/2)\"\n",
    "print(\"1ère symmétrie : plan miroir avec translation : '7 c-glide plan|translation 0 0 1/2 (y,x,z+1/2)'\")\n",
    "symmA = symm[8]\n",
    "print(symmA)\n",
    "\n",
    "#2ème symmétrie : plan miroir : \"12 mirror plane (-x+y,y,z)\"\n",
    "print(\"2ème symmétrie : plan miroir : '12 mirror plane (-x+y,y,z)'\")\n",
    "symmB = symm[7]\n",
    "print(symmB)\n",
    "\n",
    "#3ème symmétrie : symmétrie vis hexagonale : \"6 6-fold screw axis translation 0 0 1/2 (y, -x+y, z+1/2)\"\n",
    "print(\"3ème symmétrie : symmétrie vis hexagonale : '6 6-fold screw axis translation 0 0 1/2 (y, -x+y, z+1/2)'\")\n",
    "symmC = symm[5]\n",
    "print(symmC)\n",
    "\n",
    "\n"
   ]
  },
  {
   "cell_type": "code",
   "execution_count": null,
   "metadata": {},
   "outputs": [],
   "source": []
  },
  {
   "cell_type": "code",
   "execution_count": null,
   "metadata": {},
   "outputs": [],
   "source": []
  }
 ],
 "metadata": {
  "kernelspec": {
   "display_name": "Python 3",
   "language": "python",
   "name": "python3"
  },
  "language_info": {
   "codemirror_mode": {
    "name": "ipython",
    "version": 3
   },
   "file_extension": ".py",
   "mimetype": "text/x-python",
   "name": "python",
   "nbconvert_exporter": "python",
   "pygments_lexer": "ipython3",
   "version": "3.6.8"
  }
 },
 "nbformat": 4,
 "nbformat_minor": 2
}
