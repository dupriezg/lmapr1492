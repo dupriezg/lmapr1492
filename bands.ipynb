{
 "cells": [
  {
   "cell_type": "code",
   "execution_count": 61,
   "metadata": {},
   "outputs": [
    {
     "name": "stdout",
     "output_type": "stream",
     "text": [
      "BANDE INTERDITE : {'direct': False, 'energy': 1.0757000000000003, 'transition': '\\\\Gamma-K'}\n",
      "Le premier élément , \"direct = false\" nous indique que nous avons une bande interdite indirecte.\n",
      "Le deuxième élément, \"energy = 1.0757000000000003\" nous indique que la différence dénergie entre le haut de la bande de valence et le bas de la bande de conduction vaut 1.0757000000000003 eV\n",
      "le troisième élément, \"transition = Gamma-K\" nous indique que le haut de la bande de valence se situe en position Gamma, alor que le bas de la bande de conduction se situe en position K\n",
      "\n",
      "XXXXXXXXXXXXXXXXXXXXXXXXXXXXXXXXXXXXXXXXXXXXXXXXXXXXXXXXXXXXXXXXXXXXXXXXXXXXXXXXXXXXXXXXXXXX\n",
      "\n",
      "DISPERSION\n",
      "Nous pouvons observer ci-dessous le graphe de la structure de bandes électroniques du BP \"mp-1008559\".\n",
      "(Si le graphe ne s affiche pas, consultez le document BSPlotDispersion.png dans mon répertoire lmapr1492)\n",
      "Les flèches représentent les valeurs extrèmes de la dispersion.\n",
      "Les flèches rouges représentent la dispersion maximale (+) et minimale (-) de la bande de valence. \n",
      "Les flèches vertes représentent la dispersion maximale (+) et minimale (-) de la bande de conduction. \n",
      "\n",
      "XXXXXXXXXXXXXXXXXXXXXXXXXXXXXXXXXXXXXXXXXXXXXXXXXXXXXXXXXXXXXXXXXXXXXXXXXXXXXXXXXXXXXXXXXXXX\n",
      "\n",
      "MASSE EFFECTIVE\n"
     ]
    }
   ],
   "source": [
    "from pymatgen.ext.matproj import MPRester\n",
    "\n",
    "#Download the electronic band structure from the materials by using its id\n",
    "with MPRester(\"KslnWabX1xzuAHTI\") as m:\n",
    "    bs = m.get_bandstructure_by_material_id(\"mp-1008559\",True)\n",
    "\n",
    "#Getting the information about the band gap\n",
    "bg = bs.get_band_gap()\n",
    "\n",
    "\n",
    "print('BANDE INTERDITE :', bg)\n",
    "print('Le premier élément , \"direct = false\" nous indique que nous avons une bande interdite indirecte.')\n",
    "print('Le deuxième élément, \"energy = 1.0757000000000003\" nous indique que la différence d''énergie entre le haut de la bande de valence et le bas de la bande de conduction vaut 1.0757000000000003 eV')\n",
    "print('le troisième élément, \"transition = Gamma-K\" nous indique que le haut de la bande de valence se situe en position Gamma, alor que le bas de la bande de conduction se situe en position K')\n",
    "print('')\n",
    "print('XXXXXXXXXXXXXXXXXXXXXXXXXXXXXXXXXXXXXXXXXXXXXXXXXXXXXXXXXXXXXXXXXXXXXXXXXXXXXXXXXXXXXXXXXXXX')\n",
    "print('')\n",
    "\n",
    "from pymatgen.electronic_structure.plotter import BSPlotter\n",
    "from pylab import *\n",
    "bsplotter = BSPlotter(bs)\n",
    "\n",
    "\n",
    "from IPython.display import Image\n",
    "print('DISPERSION')\n",
    "print('Nous pouvons observer ci-dessous le graphe de la structure de bandes électroniques du BP \"mp-1008559\".')\n",
    "print('(Si le graphe ne s affiche pas, consultez le document BSPlotDispersion.png dans mon répertoire lmapr1492)')\n",
    "print('Les flèches représentent les valeurs extrèmes de la dispersion.')\n",
    "print('Les flèches rouges représentent la dispersion maximale (+) et minimale (-) de la bande de valence. ')\n",
    "print('Les flèches vertes représentent la dispersion maximale (+) et minimale (-) de la bande de conduction. ')\n",
    "Image(filename='BSPlotDispersion.png')\n",
    "\n",
    "print('')\n",
    "print('XXXXXXXXXXXXXXXXXXXXXXXXXXXXXXXXXXXXXXXXXXXXXXXXXXXXXXXXXXXXXXXXXXXXXXXXXXXXXXXXXXXXXXXXXXXX')\n",
    "print('')\n",
    "\n",
    "print('MASSE EFFECTIVE')\n",
    "\n",
    "\n",
    "#bsplotter.get_plot(vbm_cbm_marker = True)\n",
    "# bsplotter.plot_brillouin()"
   ]
  },
  {
   "cell_type": "code",
   "execution_count": null,
   "metadata": {},
   "outputs": [],
   "source": []
  }
 ],
 "metadata": {
  "kernelspec": {
   "display_name": "Python 3",
   "language": "python",
   "name": "python3"
  },
  "language_info": {
   "codemirror_mode": {
    "name": "ipython",
    "version": 3
   },
   "file_extension": ".py",
   "mimetype": "text/x-python",
   "name": "python",
   "nbconvert_exporter": "python",
   "pygments_lexer": "ipython3",
   "version": "3.6.8"
  }
 },
 "nbformat": 4,
 "nbformat_minor": 2
}
