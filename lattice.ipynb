{
 "cells": [
  {
   "cell_type": "code",
   "execution_count": 24,
   "metadata": {},
   "outputs": [
    {
     "name": "stdout",
     "output_type": "stream",
     "text": [
      "hexagonal\n",
      "hexagonal\n",
      "6mm\n",
      "-1.600153 -2.771490 -0.000000\n",
      "-1.600153 2.771490 0.000000\n",
      "0.000000 0.000000 -5.298093\n",
      "-1.963308 -1.133539 -0.000000\n",
      "-1.963308 1.133539 -0.000000\n",
      "0.000000 0.000000 -1.185933\n"
     ]
    }
   ],
   "source": [
    "from pymatgen.ext.matproj import MPRester\n",
    "from pymatgen.io.cif import CifWriter\n",
    "with MPRester(\"KslnWabX1xzuAHTI\") as m:\n",
    "    structure = m.get_structure_by_material_id(\"mp-1008559\")\n",
    "    w = CifWriter(structure)\n",
    "    w.write_file('mp-1008559.cif')\n",
    "\n",
    "\n",
    "from pymatgen.io.cif import CifParser\n",
    "parser = CifParser(\"mp-1008559.cif\")\n",
    "structure = parser.get_structures()[0]\n",
    "\n",
    "#déterminer le système cristallin\n",
    "from pymatgen.symmetry.analyzer import SpacegroupAnalyzer\n",
    "system = SpacegroupAnalyzer(new_s).get_crystal_system()\n",
    "print(system)\n",
    "\n",
    "#déterminer le type de maille\n",
    "lattice_type = SpacegroupAnalyzer(new_s).get_lattice_type()\n",
    "print(lattice_type)\n",
    "\n",
    "#déterminer le groupe ponctuel\n",
    "point_group = SpacegroupAnalyzer(new_s).get_point_group_symbol()\n",
    "print(point_group)\n",
    "\n",
    "#déterminer les vecteurs de base du réseau direct\n",
    "direct_vectors = structure.lattice\n",
    "print(direct_vectors)\n",
    "\n",
    "\n",
    "#déterminer les vecteurs de base du réseau réciproque\n",
    "recip_structure = structure.lattice.reciprocal_lattice\n",
    "print(recip_structure)\n",
    "\n",
    "\n",
    "\n",
    "\n"
   ]
  },
  {
   "cell_type": "code",
   "execution_count": null,
   "metadata": {},
   "outputs": [],
   "source": []
  }
 ],
 "metadata": {
  "kernelspec": {
   "display_name": "Python 3",
   "language": "python",
   "name": "python3"
  },
  "language_info": {
   "codemirror_mode": {
    "name": "ipython",
    "version": 3
   },
   "file_extension": ".py",
   "mimetype": "text/x-python",
   "name": "python",
   "nbconvert_exporter": "python",
   "pygments_lexer": "ipython3",
   "version": "3.6.8"
  }
 },
 "nbformat": 4,
 "nbformat_minor": 2
}
